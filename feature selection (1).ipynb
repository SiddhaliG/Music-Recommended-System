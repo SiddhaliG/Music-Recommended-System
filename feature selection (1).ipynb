{
 "cells": [
  {
   "cell_type": "code",
   "execution_count": 1,
   "id": "cd99e192",
   "metadata": {},
   "outputs": [],
   "source": [
    "import pandas as pd\n",
    "import numpy as np"
   ]
  },
  {
   "cell_type": "code",
   "execution_count": 2,
   "id": "d7f8af58",
   "metadata": {},
   "outputs": [],
   "source": [
    "df = pd.read_csv('sorted.csv')"
   ]
  },
  {
   "cell_type": "code",
   "execution_count": 3,
   "id": "a685a81e",
   "metadata": {},
   "outputs": [],
   "source": [
    "df_india=df.loc[df['region']=='India']"
   ]
  },
  {
   "cell_type": "code",
   "execution_count": 4,
   "id": "e8fb748c",
   "metadata": {},
   "outputs": [
    {
     "data": {
      "text/html": [
       "<div>\n",
       "<style scoped>\n",
       "    .dataframe tbody tr th:only-of-type {\n",
       "        vertical-align: middle;\n",
       "    }\n",
       "\n",
       "    .dataframe tbody tr th {\n",
       "        vertical-align: top;\n",
       "    }\n",
       "\n",
       "    .dataframe thead th {\n",
       "        text-align: right;\n",
       "    }\n",
       "</style>\n",
       "<table border=\"1\" class=\"dataframe\">\n",
       "  <thead>\n",
       "    <tr style=\"text-align: right;\">\n",
       "      <th></th>\n",
       "      <th>Unnamed: 0</th>\n",
       "      <th>title</th>\n",
       "      <th>rank</th>\n",
       "      <th>year</th>\n",
       "      <th>artist</th>\n",
       "      <th>region</th>\n",
       "      <th>chart</th>\n",
       "      <th>trend</th>\n",
       "      <th>streams</th>\n",
       "    </tr>\n",
       "  </thead>\n",
       "  <tbody>\n",
       "    <tr>\n",
       "      <th>44</th>\n",
       "      <td>3597815</td>\n",
       "      <td>Dynamite</td>\n",
       "      <td>1</td>\n",
       "      <td>2020</td>\n",
       "      <td>BTS</td>\n",
       "      <td>India</td>\n",
       "      <td>top200</td>\n",
       "      <td>SAME_POSITION</td>\n",
       "      <td>281847.00</td>\n",
       "    </tr>\n",
       "    <tr>\n",
       "      <th>63</th>\n",
       "      <td>10698144</td>\n",
       "      <td>love nwantiti (feat. Dj Yo! &amp; AX'EL) - Remix</td>\n",
       "      <td>1</td>\n",
       "      <td>2021</td>\n",
       "      <td>CKay</td>\n",
       "      <td>India</td>\n",
       "      <td>viral50</td>\n",
       "      <td>SAME_POSITION</td>\n",
       "      <td>56740.87</td>\n",
       "    </tr>\n",
       "    <tr>\n",
       "      <th>177</th>\n",
       "      <td>6911670</td>\n",
       "      <td>MONTERO (Call Me By Your Name)</td>\n",
       "      <td>1</td>\n",
       "      <td>2021</td>\n",
       "      <td>Lil Nas X</td>\n",
       "      <td>India</td>\n",
       "      <td>top200</td>\n",
       "      <td>SAME_POSITION</td>\n",
       "      <td>254426.00</td>\n",
       "    </tr>\n",
       "    <tr>\n",
       "      <th>197</th>\n",
       "      <td>9361956</td>\n",
       "      <td>Raataan Lambiyan (From \"Shershaah\")</td>\n",
       "      <td>1</td>\n",
       "      <td>2021</td>\n",
       "      <td>Tanishk Bagchi, Jubin Nautiyal, Asees Kaur</td>\n",
       "      <td>India</td>\n",
       "      <td>top200</td>\n",
       "      <td>SAME_POSITION</td>\n",
       "      <td>418151.00</td>\n",
       "    </tr>\n",
       "    <tr>\n",
       "      <th>236</th>\n",
       "      <td>10900798</td>\n",
       "      <td>Hadal Ahbek</td>\n",
       "      <td>1</td>\n",
       "      <td>2021</td>\n",
       "      <td>Issam Alnajjar</td>\n",
       "      <td>India</td>\n",
       "      <td>viral50</td>\n",
       "      <td>SAME_POSITION</td>\n",
       "      <td>56740.87</td>\n",
       "    </tr>\n",
       "  </tbody>\n",
       "</table>\n",
       "</div>"
      ],
      "text/plain": [
       "     Unnamed: 0                                         title  rank  year  \\\n",
       "44      3597815                                      Dynamite     1  2020   \n",
       "63     10698144  love nwantiti (feat. Dj Yo! & AX'EL) - Remix     1  2021   \n",
       "177     6911670                MONTERO (Call Me By Your Name)     1  2021   \n",
       "197     9361956           Raataan Lambiyan (From \"Shershaah\")     1  2021   \n",
       "236    10900798                                   Hadal Ahbek     1  2021   \n",
       "\n",
       "                                         artist region    chart  \\\n",
       "44                                          BTS  India   top200   \n",
       "63                                         CKay  India  viral50   \n",
       "177                                   Lil Nas X  India   top200   \n",
       "197  Tanishk Bagchi, Jubin Nautiyal, Asees Kaur  India   top200   \n",
       "236                              Issam Alnajjar  India  viral50   \n",
       "\n",
       "             trend    streams  \n",
       "44   SAME_POSITION  281847.00  \n",
       "63   SAME_POSITION   56740.87  \n",
       "177  SAME_POSITION  254426.00  \n",
       "197  SAME_POSITION  418151.00  \n",
       "236  SAME_POSITION   56740.87  "
      ]
     },
     "execution_count": 4,
     "metadata": {},
     "output_type": "execute_result"
    }
   ],
   "source": [
    "df_india.head()"
   ]
  },
  {
   "cell_type": "code",
   "execution_count": 5,
   "id": "bb15a459",
   "metadata": {},
   "outputs": [
    {
     "data": {
      "text/plain": [
       "(176404, 9)"
      ]
     },
     "execution_count": 5,
     "metadata": {},
     "output_type": "execute_result"
    }
   ],
   "source": [
    "df_india.shape"
   ]
  },
  {
   "cell_type": "code",
   "execution_count": 6,
   "id": "82935dd9",
   "metadata": {},
   "outputs": [],
   "source": [
    "df_india.to_csv('indiaSongs.csv')"
   ]
  },
  {
   "cell_type": "code",
   "execution_count": 7,
   "id": "880788fe",
   "metadata": {},
   "outputs": [
    {
     "data": {
      "text/plain": [
       "(11496666, 9)"
      ]
     },
     "execution_count": 7,
     "metadata": {},
     "output_type": "execute_result"
    }
   ],
   "source": [
    "df.shape"
   ]
  },
  {
   "cell_type": "code",
   "execution_count": 8,
   "id": "7e398193",
   "metadata": {},
   "outputs": [
    {
     "data": {
      "text/html": [
       "<div>\n",
       "<style scoped>\n",
       "    .dataframe tbody tr th:only-of-type {\n",
       "        vertical-align: middle;\n",
       "    }\n",
       "\n",
       "    .dataframe tbody tr th {\n",
       "        vertical-align: top;\n",
       "    }\n",
       "\n",
       "    .dataframe thead th {\n",
       "        text-align: right;\n",
       "    }\n",
       "</style>\n",
       "<table border=\"1\" class=\"dataframe\">\n",
       "  <thead>\n",
       "    <tr style=\"text-align: right;\">\n",
       "      <th></th>\n",
       "      <th>Unnamed: 0</th>\n",
       "      <th>title</th>\n",
       "      <th>rank</th>\n",
       "      <th>year</th>\n",
       "      <th>artist</th>\n",
       "      <th>region</th>\n",
       "      <th>chart</th>\n",
       "      <th>trend</th>\n",
       "      <th>streams</th>\n",
       "    </tr>\n",
       "  </thead>\n",
       "  <tbody>\n",
       "    <tr>\n",
       "      <th>0</th>\n",
       "      <td>6098044</td>\n",
       "      <td>Bando Bitch</td>\n",
       "      <td>1</td>\n",
       "      <td>2021</td>\n",
       "      <td>Branco</td>\n",
       "      <td>Denmark</td>\n",
       "      <td>top200</td>\n",
       "      <td>SAME_POSITION</td>\n",
       "      <td>61871.00</td>\n",
       "    </tr>\n",
       "    <tr>\n",
       "      <th>1</th>\n",
       "      <td>10900968</td>\n",
       "      <td>Mon Amour - Remix</td>\n",
       "      <td>1</td>\n",
       "      <td>2021</td>\n",
       "      <td>zzoilo, Aitana</td>\n",
       "      <td>Mexico</td>\n",
       "      <td>viral50</td>\n",
       "      <td>SAME_POSITION</td>\n",
       "      <td>56740.87</td>\n",
       "    </tr>\n",
       "    <tr>\n",
       "      <th>2</th>\n",
       "      <td>5124446</td>\n",
       "      <td>50//50</td>\n",
       "      <td>1</td>\n",
       "      <td>2020</td>\n",
       "      <td>Vantage</td>\n",
       "      <td>Canada</td>\n",
       "      <td>viral50</td>\n",
       "      <td>SAME_POSITION</td>\n",
       "      <td>56740.87</td>\n",
       "    </tr>\n",
       "    <tr>\n",
       "      <th>3</th>\n",
       "      <td>6910681</td>\n",
       "      <td>一人之境 in C major</td>\n",
       "      <td>1</td>\n",
       "      <td>2021</td>\n",
       "      <td>Terence Lam</td>\n",
       "      <td>Hong Kong</td>\n",
       "      <td>top200</td>\n",
       "      <td>SAME_POSITION</td>\n",
       "      <td>27822.00</td>\n",
       "    </tr>\n",
       "    <tr>\n",
       "      <th>4</th>\n",
       "      <td>10558975</td>\n",
       "      <td>Do It To It</td>\n",
       "      <td>1</td>\n",
       "      <td>2021</td>\n",
       "      <td>ACRAZE, Cherish</td>\n",
       "      <td>Germany</td>\n",
       "      <td>viral50</td>\n",
       "      <td>SAME_POSITION</td>\n",
       "      <td>56740.87</td>\n",
       "    </tr>\n",
       "  </tbody>\n",
       "</table>\n",
       "</div>"
      ],
      "text/plain": [
       "   Unnamed: 0              title  rank  year           artist     region  \\\n",
       "0     6098044        Bando Bitch     1  2021           Branco    Denmark   \n",
       "1    10900968  Mon Amour - Remix     1  2021   zzoilo, Aitana     Mexico   \n",
       "2     5124446             50//50     1  2020          Vantage     Canada   \n",
       "3     6910681    一人之境 in C major     1  2021      Terence Lam  Hong Kong   \n",
       "4    10558975        Do It To It     1  2021  ACRAZE, Cherish    Germany   \n",
       "\n",
       "     chart          trend   streams  \n",
       "0   top200  SAME_POSITION  61871.00  \n",
       "1  viral50  SAME_POSITION  56740.87  \n",
       "2  viral50  SAME_POSITION  56740.87  \n",
       "3   top200  SAME_POSITION  27822.00  \n",
       "4  viral50  SAME_POSITION  56740.87  "
      ]
     },
     "execution_count": 8,
     "metadata": {},
     "output_type": "execute_result"
    }
   ],
   "source": [
    "df.head()\n"
   ]
  },
  {
   "cell_type": "code",
   "execution_count": 9,
   "id": "b85bd84c",
   "metadata": {},
   "outputs": [],
   "source": [
    "df =df.drop(\"Unnamed: 0\",axis=1)"
   ]
  },
  {
   "cell_type": "code",
   "execution_count": 10,
   "id": "37cbe64b",
   "metadata": {},
   "outputs": [
    {
     "data": {
      "text/plain": [
       "title       object\n",
       "rank         int64\n",
       "year         int64\n",
       "artist      object\n",
       "region      object\n",
       "chart       object\n",
       "trend       object\n",
       "streams    float64\n",
       "dtype: object"
      ]
     },
     "execution_count": 10,
     "metadata": {},
     "output_type": "execute_result"
    }
   ],
   "source": [
    "df.dtypes"
   ]
  },
  {
   "cell_type": "code",
   "execution_count": 11,
   "id": "e11adcba",
   "metadata": {},
   "outputs": [],
   "source": [
    "df['year'] = df['year'].astype(str)"
   ]
  },
  {
   "cell_type": "code",
   "execution_count": 12,
   "id": "004646f6",
   "metadata": {},
   "outputs": [],
   "source": [
    "df1=df[['title','year','artist','region','chart','trend']]\n",
    "df2 = df[['rank','streams']]"
   ]
  },
  {
   "cell_type": "code",
   "execution_count": 13,
   "id": "2c7be2ff",
   "metadata": {},
   "outputs": [
    {
     "name": "stderr",
     "output_type": "stream",
     "text": [
      "C:\\Users\\siddh\\AppData\\Local\\Temp\\ipykernel_4460\\3556904582.py:3: SettingWithCopyWarning: \n",
      "A value is trying to be set on a copy of a slice from a DataFrame.\n",
      "Try using .loc[row_indexer,col_indexer] = value instead\n",
      "\n",
      "See the caveats in the documentation: https://pandas.pydata.org/pandas-docs/stable/user_guide/indexing.html#returning-a-view-versus-a-copy\n",
      "  df1[columns] = df1[columns].map(ordinal_label3)\n",
      "C:\\Users\\siddh\\AppData\\Local\\Temp\\ipykernel_4460\\3556904582.py:3: SettingWithCopyWarning: \n",
      "A value is trying to be set on a copy of a slice from a DataFrame.\n",
      "Try using .loc[row_indexer,col_indexer] = value instead\n",
      "\n",
      "See the caveats in the documentation: https://pandas.pydata.org/pandas-docs/stable/user_guide/indexing.html#returning-a-view-versus-a-copy\n",
      "  df1[columns] = df1[columns].map(ordinal_label3)\n",
      "C:\\Users\\siddh\\AppData\\Local\\Temp\\ipykernel_4460\\3556904582.py:3: SettingWithCopyWarning: \n",
      "A value is trying to be set on a copy of a slice from a DataFrame.\n",
      "Try using .loc[row_indexer,col_indexer] = value instead\n",
      "\n",
      "See the caveats in the documentation: https://pandas.pydata.org/pandas-docs/stable/user_guide/indexing.html#returning-a-view-versus-a-copy\n",
      "  df1[columns] = df1[columns].map(ordinal_label3)\n",
      "C:\\Users\\siddh\\AppData\\Local\\Temp\\ipykernel_4460\\3556904582.py:3: SettingWithCopyWarning: \n",
      "A value is trying to be set on a copy of a slice from a DataFrame.\n",
      "Try using .loc[row_indexer,col_indexer] = value instead\n",
      "\n",
      "See the caveats in the documentation: https://pandas.pydata.org/pandas-docs/stable/user_guide/indexing.html#returning-a-view-versus-a-copy\n",
      "  df1[columns] = df1[columns].map(ordinal_label3)\n",
      "C:\\Users\\siddh\\AppData\\Local\\Temp\\ipykernel_4460\\3556904582.py:3: SettingWithCopyWarning: \n",
      "A value is trying to be set on a copy of a slice from a DataFrame.\n",
      "Try using .loc[row_indexer,col_indexer] = value instead\n",
      "\n",
      "See the caveats in the documentation: https://pandas.pydata.org/pandas-docs/stable/user_guide/indexing.html#returning-a-view-versus-a-copy\n",
      "  df1[columns] = df1[columns].map(ordinal_label3)\n",
      "C:\\Users\\siddh\\AppData\\Local\\Temp\\ipykernel_4460\\3556904582.py:3: SettingWithCopyWarning: \n",
      "A value is trying to be set on a copy of a slice from a DataFrame.\n",
      "Try using .loc[row_indexer,col_indexer] = value instead\n",
      "\n",
      "See the caveats in the documentation: https://pandas.pydata.org/pandas-docs/stable/user_guide/indexing.html#returning-a-view-versus-a-copy\n",
      "  df1[columns] = df1[columns].map(ordinal_label3)\n"
     ]
    }
   ],
   "source": [
    "for columns in df1.columns:\n",
    "    ordinal_label3={k:i for i, k in enumerate(df1[columns].unique(),0)} #{2020:0,2021:1} (iterable,start index)\n",
    "    df1[columns] = df1[columns].map(ordinal_label3)"
   ]
  },
  {
   "cell_type": "code",
   "execution_count": 14,
   "id": "e4954ba3",
   "metadata": {},
   "outputs": [
    {
     "data": {
      "text/html": [
       "<div>\n",
       "<style scoped>\n",
       "    .dataframe tbody tr th:only-of-type {\n",
       "        vertical-align: middle;\n",
       "    }\n",
       "\n",
       "    .dataframe tbody tr th {\n",
       "        vertical-align: top;\n",
       "    }\n",
       "\n",
       "    .dataframe thead th {\n",
       "        text-align: right;\n",
       "    }\n",
       "</style>\n",
       "<table border=\"1\" class=\"dataframe\">\n",
       "  <thead>\n",
       "    <tr style=\"text-align: right;\">\n",
       "      <th></th>\n",
       "      <th>title</th>\n",
       "      <th>year</th>\n",
       "      <th>artist</th>\n",
       "      <th>region</th>\n",
       "      <th>chart</th>\n",
       "      <th>trend</th>\n",
       "    </tr>\n",
       "  </thead>\n",
       "  <tbody>\n",
       "    <tr>\n",
       "      <th>11496661</th>\n",
       "      <td>52709</td>\n",
       "      <td>1</td>\n",
       "      <td>2751</td>\n",
       "      <td>0</td>\n",
       "      <td>0</td>\n",
       "      <td>3</td>\n",
       "    </tr>\n",
       "    <tr>\n",
       "      <th>11496662</th>\n",
       "      <td>35698</td>\n",
       "      <td>1</td>\n",
       "      <td>183</td>\n",
       "      <td>2</td>\n",
       "      <td>0</td>\n",
       "      <td>1</td>\n",
       "    </tr>\n",
       "    <tr>\n",
       "      <th>11496663</th>\n",
       "      <td>21926</td>\n",
       "      <td>0</td>\n",
       "      <td>91</td>\n",
       "      <td>25</td>\n",
       "      <td>0</td>\n",
       "      <td>3</td>\n",
       "    </tr>\n",
       "    <tr>\n",
       "      <th>11496664</th>\n",
       "      <td>8643</td>\n",
       "      <td>1</td>\n",
       "      <td>6751</td>\n",
       "      <td>8</td>\n",
       "      <td>0</td>\n",
       "      <td>3</td>\n",
       "    </tr>\n",
       "    <tr>\n",
       "      <th>11496665</th>\n",
       "      <td>41516</td>\n",
       "      <td>1</td>\n",
       "      <td>2107</td>\n",
       "      <td>5</td>\n",
       "      <td>0</td>\n",
       "      <td>3</td>\n",
       "    </tr>\n",
       "  </tbody>\n",
       "</table>\n",
       "</div>"
      ],
      "text/plain": [
       "          title  year  artist  region  chart  trend\n",
       "11496661  52709     1    2751       0      0      3\n",
       "11496662  35698     1     183       2      0      1\n",
       "11496663  21926     0      91      25      0      3\n",
       "11496664   8643     1    6751       8      0      3\n",
       "11496665  41516     1    2107       5      0      3"
      ]
     },
     "execution_count": 14,
     "metadata": {},
     "output_type": "execute_result"
    }
   ],
   "source": [
    "df1.tail()"
   ]
  },
  {
   "cell_type": "code",
   "execution_count": 15,
   "id": "b32b212f",
   "metadata": {},
   "outputs": [],
   "source": [
    "df3 = pd.concat([df1,df2],axis=1)"
   ]
  },
  {
   "cell_type": "code",
   "execution_count": 16,
   "id": "23606b88",
   "metadata": {},
   "outputs": [
    {
     "data": {
      "text/plain": [
       "(11496666, 8)"
      ]
     },
     "execution_count": 16,
     "metadata": {},
     "output_type": "execute_result"
    }
   ],
   "source": [
    "df3.shape"
   ]
  },
  {
   "cell_type": "markdown",
   "id": "88fe718a",
   "metadata": {},
   "source": [
    "# feature selection Information Gain"
   ]
  },
  {
   "cell_type": "code",
   "execution_count": 17,
   "id": "0ae6f6b0",
   "metadata": {},
   "outputs": [],
   "source": [
    "def systematic_sampling(df, step):\n",
    " \n",
    "    indexes = np.arange(0, len(df), step=step)\n",
    "    systematic_sample = df.iloc[indexes]\n",
    "    return systematic_sample\n",
    " "
   ]
  },
  {
   "cell_type": "code",
   "execution_count": 18,
   "id": "0177a906",
   "metadata": {},
   "outputs": [],
   "source": [
    "df_sample = systematic_sampling(df3, 5)"
   ]
  },
  {
   "cell_type": "code",
   "execution_count": 19,
   "id": "a9d8b56c",
   "metadata": {},
   "outputs": [
    {
     "data": {
      "text/plain": [
       "(2299334, 8)"
      ]
     },
     "execution_count": 19,
     "metadata": {},
     "output_type": "execute_result"
    }
   ],
   "source": [
    "df_sample.shape"
   ]
  },
  {
   "cell_type": "code",
   "execution_count": 20,
   "id": "ac9a15e3",
   "metadata": {},
   "outputs": [
    {
     "data": {
      "text/html": [
       "<div>\n",
       "<style scoped>\n",
       "    .dataframe tbody tr th:only-of-type {\n",
       "        vertical-align: middle;\n",
       "    }\n",
       "\n",
       "    .dataframe tbody tr th {\n",
       "        vertical-align: top;\n",
       "    }\n",
       "\n",
       "    .dataframe thead th {\n",
       "        text-align: right;\n",
       "    }\n",
       "</style>\n",
       "<table border=\"1\" class=\"dataframe\">\n",
       "  <thead>\n",
       "    <tr style=\"text-align: right;\">\n",
       "      <th></th>\n",
       "      <th>title</th>\n",
       "      <th>year</th>\n",
       "      <th>artist</th>\n",
       "      <th>region</th>\n",
       "      <th>chart</th>\n",
       "      <th>trend</th>\n",
       "      <th>rank</th>\n",
       "      <th>streams</th>\n",
       "    </tr>\n",
       "  </thead>\n",
       "  <tbody>\n",
       "    <tr>\n",
       "      <th>0</th>\n",
       "      <td>0</td>\n",
       "      <td>0</td>\n",
       "      <td>0</td>\n",
       "      <td>0</td>\n",
       "      <td>0</td>\n",
       "      <td>0</td>\n",
       "      <td>1</td>\n",
       "      <td>61871.00</td>\n",
       "    </tr>\n",
       "    <tr>\n",
       "      <th>5</th>\n",
       "      <td>5</td>\n",
       "      <td>1</td>\n",
       "      <td>5</td>\n",
       "      <td>5</td>\n",
       "      <td>1</td>\n",
       "      <td>0</td>\n",
       "      <td>1</td>\n",
       "      <td>56740.87</td>\n",
       "    </tr>\n",
       "    <tr>\n",
       "      <th>10</th>\n",
       "      <td>9</td>\n",
       "      <td>1</td>\n",
       "      <td>9</td>\n",
       "      <td>9</td>\n",
       "      <td>0</td>\n",
       "      <td>0</td>\n",
       "      <td>1</td>\n",
       "      <td>13437.00</td>\n",
       "    </tr>\n",
       "    <tr>\n",
       "      <th>15</th>\n",
       "      <td>14</td>\n",
       "      <td>1</td>\n",
       "      <td>14</td>\n",
       "      <td>14</td>\n",
       "      <td>1</td>\n",
       "      <td>1</td>\n",
       "      <td>1</td>\n",
       "      <td>56740.87</td>\n",
       "    </tr>\n",
       "    <tr>\n",
       "      <th>20</th>\n",
       "      <td>19</td>\n",
       "      <td>1</td>\n",
       "      <td>19</td>\n",
       "      <td>5</td>\n",
       "      <td>0</td>\n",
       "      <td>0</td>\n",
       "      <td>1</td>\n",
       "      <td>1655785.00</td>\n",
       "    </tr>\n",
       "  </tbody>\n",
       "</table>\n",
       "</div>"
      ],
      "text/plain": [
       "    title  year  artist  region  chart  trend  rank     streams\n",
       "0       0     0       0       0      0      0     1    61871.00\n",
       "5       5     1       5       5      1      0     1    56740.87\n",
       "10      9     1       9       9      0      0     1    13437.00\n",
       "15     14     1      14      14      1      1     1    56740.87\n",
       "20     19     1      19       5      0      0     1  1655785.00"
      ]
     },
     "execution_count": 20,
     "metadata": {},
     "output_type": "execute_result"
    }
   ],
   "source": [
    "df_sample.head()"
   ]
  },
  {
   "cell_type": "code",
   "execution_count": 21,
   "id": "217df107",
   "metadata": {},
   "outputs": [
    {
     "data": {
      "text/plain": [
       "1    1159368\n",
       "0    1139966\n",
       "Name: year, dtype: int64"
      ]
     },
     "execution_count": 21,
     "metadata": {},
     "output_type": "execute_result"
    }
   ],
   "source": [
    "df_sample['year'].value_counts()"
   ]
  },
  {
   "cell_type": "code",
   "execution_count": 22,
   "id": "8d3c14d5",
   "metadata": {},
   "outputs": [
    {
     "data": {
      "text/plain": [
       "3    993089\n",
       "2    859000\n",
       "0    303062\n",
       "1    144183\n",
       "Name: trend, dtype: int64"
      ]
     },
     "execution_count": 22,
     "metadata": {},
     "output_type": "execute_result"
    }
   ],
   "source": [
    "df_sample['trend'].value_counts()"
   ]
  },
  {
   "cell_type": "code",
   "execution_count": 23,
   "id": "e72cc118",
   "metadata": {},
   "outputs": [
    {
     "data": {
      "text/plain": [
       "0    1797169\n",
       "1     502165\n",
       "Name: chart, dtype: int64"
      ]
     },
     "execution_count": 23,
     "metadata": {},
     "output_type": "execute_result"
    }
   ],
   "source": [
    "df_sample['chart'].value_counts()"
   ]
  },
  {
   "cell_type": "code",
   "execution_count": 24,
   "id": "fbdbc8c0",
   "metadata": {},
   "outputs": [],
   "source": [
    "df_sample = df_sample.drop(['trend','chart'],axis=1)#because of biaseness in data"
   ]
  },
  {
   "cell_type": "code",
   "execution_count": 25,
   "id": "ddc6e3b2",
   "metadata": {},
   "outputs": [],
   "source": [
    "#minmax scaler to normalise value (x-min/max-min) ranges from 0 to 1\n",
    "for column in df_sample.columns:\n",
    "\tdf_sample[column] = (df_sample[column] - df_sample[column].min()) / (df_sample[column].max() - df_sample[column].min())"
   ]
  },
  {
   "cell_type": "code",
   "execution_count": 26,
   "id": "c814f1bd",
   "metadata": {},
   "outputs": [
    {
     "data": {
      "text/html": [
       "<div>\n",
       "<style scoped>\n",
       "    .dataframe tbody tr th:only-of-type {\n",
       "        vertical-align: middle;\n",
       "    }\n",
       "\n",
       "    .dataframe tbody tr th {\n",
       "        vertical-align: top;\n",
       "    }\n",
       "\n",
       "    .dataframe thead th {\n",
       "        text-align: right;\n",
       "    }\n",
       "</style>\n",
       "<table border=\"1\" class=\"dataframe\">\n",
       "  <thead>\n",
       "    <tr style=\"text-align: right;\">\n",
       "      <th></th>\n",
       "      <th>title</th>\n",
       "      <th>year</th>\n",
       "      <th>artist</th>\n",
       "      <th>region</th>\n",
       "      <th>rank</th>\n",
       "      <th>streams</th>\n",
       "    </tr>\n",
       "  </thead>\n",
       "  <tbody>\n",
       "    <tr>\n",
       "      <th>0</th>\n",
       "      <td>0.000000</td>\n",
       "      <td>0.0</td>\n",
       "      <td>0.000000</td>\n",
       "      <td>0.000000</td>\n",
       "      <td>0.0</td>\n",
       "      <td>0.004952</td>\n",
       "    </tr>\n",
       "    <tr>\n",
       "      <th>5</th>\n",
       "      <td>0.000068</td>\n",
       "      <td>1.0</td>\n",
       "      <td>0.000114</td>\n",
       "      <td>0.072464</td>\n",
       "      <td>0.0</td>\n",
       "      <td>0.004535</td>\n",
       "    </tr>\n",
       "    <tr>\n",
       "      <th>10</th>\n",
       "      <td>0.000123</td>\n",
       "      <td>1.0</td>\n",
       "      <td>0.000206</td>\n",
       "      <td>0.130435</td>\n",
       "      <td>0.0</td>\n",
       "      <td>0.001012</td>\n",
       "    </tr>\n",
       "    <tr>\n",
       "      <th>15</th>\n",
       "      <td>0.000192</td>\n",
       "      <td>1.0</td>\n",
       "      <td>0.000320</td>\n",
       "      <td>0.202899</td>\n",
       "      <td>0.0</td>\n",
       "      <td>0.004535</td>\n",
       "    </tr>\n",
       "    <tr>\n",
       "      <th>20</th>\n",
       "      <td>0.000260</td>\n",
       "      <td>1.0</td>\n",
       "      <td>0.000434</td>\n",
       "      <td>0.072464</td>\n",
       "      <td>0.0</td>\n",
       "      <td>0.134633</td>\n",
       "    </tr>\n",
       "  </tbody>\n",
       "</table>\n",
       "</div>"
      ],
      "text/plain": [
       "       title  year    artist    region  rank   streams\n",
       "0   0.000000   0.0  0.000000  0.000000   0.0  0.004952\n",
       "5   0.000068   1.0  0.000114  0.072464   0.0  0.004535\n",
       "10  0.000123   1.0  0.000206  0.130435   0.0  0.001012\n",
       "15  0.000192   1.0  0.000320  0.202899   0.0  0.004535\n",
       "20  0.000260   1.0  0.000434  0.072464   0.0  0.134633"
      ]
     },
     "execution_count": 26,
     "metadata": {},
     "output_type": "execute_result"
    }
   ],
   "source": [
    "df_sample.head()"
   ]
  },
  {
   "cell_type": "code",
   "execution_count": 27,
   "id": "40f67b4a",
   "metadata": {},
   "outputs": [],
   "source": [
    "from sklearn.model_selection import train_test_split\n",
    "x_train,x_test,y_train,y_test=train_test_split(df_sample[[\"rank\",\"year\",\"artist\",\"region\",\"streams\"]],df_sample[\"title\"],test_size=0.3,random_state=0)"
   ]
  },
  {
   "cell_type": "code",
   "execution_count": 28,
   "id": "bc3143c3",
   "metadata": {},
   "outputs": [
    {
     "data": {
      "text/plain": [
       "array([0.31624531, 0.36379796, 7.71044698, 1.7334128 , 0.37781744])"
      ]
     },
     "execution_count": 28,
     "metadata": {},
     "output_type": "execute_result"
    }
   ],
   "source": [
    "from sklearn.feature_selection import mutual_info_regression\n",
    "mutual_info = mutual_info_regression(x_train,y_train)\n",
    "mutual_info"
   ]
  },
  {
   "cell_type": "code",
   "execution_count": 29,
   "id": "09a50761",
   "metadata": {},
   "outputs": [
    {
     "data": {
      "text/plain": [
       "artist     7.710447\n",
       "region     1.733413\n",
       "streams    0.377817\n",
       "year       0.363798\n",
       "rank       0.316245\n",
       "dtype: float64"
      ]
     },
     "execution_count": 29,
     "metadata": {},
     "output_type": "execute_result"
    }
   ],
   "source": [
    "mutual_info_srs = pd.Series(mutual_info)\n",
    "mutual_info_srs.index=x_train.columns\n",
    "mutual_info_srs.sort_values(ascending=False)"
   ]
  },
  {
   "cell_type": "code",
   "execution_count": null,
   "id": "967e1e51",
   "metadata": {},
   "outputs": [],
   "source": []
  },
  {
   "cell_type": "code",
   "execution_count": null,
   "id": "5540e8c6",
   "metadata": {},
   "outputs": [],
   "source": []
  },
  {
   "cell_type": "code",
   "execution_count": null,
   "id": "fd656ca7",
   "metadata": {},
   "outputs": [],
   "source": []
  },
  {
   "cell_type": "code",
   "execution_count": null,
   "id": "3c810872",
   "metadata": {},
   "outputs": [],
   "source": []
  },
  {
   "cell_type": "code",
   "execution_count": null,
   "id": "3824c03c",
   "metadata": {},
   "outputs": [],
   "source": []
  },
  {
   "cell_type": "code",
   "execution_count": null,
   "id": "f5f759ad",
   "metadata": {},
   "outputs": [],
   "source": []
  },
  {
   "cell_type": "code",
   "execution_count": null,
   "id": "a2c4159a",
   "metadata": {},
   "outputs": [],
   "source": []
  },
  {
   "cell_type": "code",
   "execution_count": null,
   "id": "85463aba",
   "metadata": {},
   "outputs": [],
   "source": []
  },
  {
   "cell_type": "code",
   "execution_count": null,
   "id": "151b9e62",
   "metadata": {},
   "outputs": [],
   "source": []
  },
  {
   "cell_type": "code",
   "execution_count": null,
   "id": "c71705bb",
   "metadata": {},
   "outputs": [],
   "source": []
  },
  {
   "cell_type": "code",
   "execution_count": null,
   "id": "8d7f6e2c",
   "metadata": {},
   "outputs": [],
   "source": []
  },
  {
   "cell_type": "code",
   "execution_count": null,
   "id": "250d4ca1",
   "metadata": {},
   "outputs": [],
   "source": []
  },
  {
   "cell_type": "code",
   "execution_count": null,
   "id": "3bf73388",
   "metadata": {},
   "outputs": [],
   "source": []
  },
  {
   "cell_type": "code",
   "execution_count": null,
   "id": "9aeaafab",
   "metadata": {},
   "outputs": [],
   "source": []
  },
  {
   "cell_type": "code",
   "execution_count": null,
   "id": "65625405",
   "metadata": {},
   "outputs": [],
   "source": []
  },
  {
   "cell_type": "code",
   "execution_count": null,
   "id": "536ec818",
   "metadata": {},
   "outputs": [],
   "source": []
  },
  {
   "cell_type": "code",
   "execution_count": null,
   "id": "45ea8620",
   "metadata": {},
   "outputs": [],
   "source": []
  },
  {
   "cell_type": "code",
   "execution_count": null,
   "id": "0c516a30",
   "metadata": {},
   "outputs": [],
   "source": []
  },
  {
   "cell_type": "code",
   "execution_count": null,
   "id": "1143bce6",
   "metadata": {},
   "outputs": [],
   "source": []
  },
  {
   "cell_type": "code",
   "execution_count": null,
   "id": "5d267b05",
   "metadata": {},
   "outputs": [],
   "source": []
  }
 ],
 "metadata": {
  "kernelspec": {
   "display_name": "Python 3 (ipykernel)",
   "language": "python",
   "name": "python3"
  },
  "language_info": {
   "codemirror_mode": {
    "name": "ipython",
    "version": 3
   },
   "file_extension": ".py",
   "mimetype": "text/x-python",
   "name": "python",
   "nbconvert_exporter": "python",
   "pygments_lexer": "ipython3",
   "version": "3.9.13"
  }
 },
 "nbformat": 4,
 "nbformat_minor": 5
}
