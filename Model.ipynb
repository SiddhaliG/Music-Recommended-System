{
 "cells": [
  {
   "cell_type": "code",
   "execution_count": 1,
   "id": "30e350f2",
   "metadata": {},
   "outputs": [],
   "source": [
    "import numpy as np\n",
    "import pandas as pd\n",
    "from sklearn.metrics.pairwise import cosine_similarity\n",
    "import warnings"
   ]
  },
  {
   "cell_type": "code",
   "execution_count": 2,
   "id": "b89489c2",
   "metadata": {},
   "outputs": [],
   "source": [
    "def customRecommendation(region,year,songstr,path):\n",
    "    df = pd.read_csv(path)\n",
    "    df1 = df.drop(['Unnamed: 0.1','Unnamed: 0','region','rank','year'],axis=1)#feature removal(here region is removed because we have load data of indian region)\n",
    "    df2=df1[['artist','chart','trend']]\n",
    "    for columns in df2.columns:\n",
    "        ordinal_label3={k:i for i, k in enumerate(df2[columns].unique(),0)}\n",
    "        df2[columns] = df2[columns].map(ordinal_label3)#labelencoder\n",
    "    df1=df1.drop(['artist','chart','trend'],axis=1)\n",
    "    df4 = pd.concat([df1,df2],axis=1)\n",
    "    for column in ['streams','artist','chart','trend']:\n",
    "        df4[column] = (df4[column] - df4[column].min()) / (df4[column].max() - df4[column].min())\n",
    "    pt=df4.pivot_table(index=['title'],values=['streams','artist','chart','trend'])#pivoting the table and setting index and values\n",
    "    similarity_scores=cosine_similarity(pt)\n",
    "    def recommend(song_name):\n",
    "        index=np.where(pt.index==song_name)[0][0]\n",
    "        similar_items=sorted(list(enumerate(similarity_scores[index])),key=lambda x:x[1],reverse=True)[1:8]\n",
    "        for i in similar_items:\n",
    "            print(pt.index[i[0]])\n",
    "    recommend(songstr)"
   ]
  },
  {
   "cell_type": "code",
   "execution_count": 3,
   "id": "8d8443c6",
   "metadata": {},
   "outputs": [],
   "source": [
    "def defaultRecommendation(songstr1):\n",
    "    df = pd.read_csv('SampleData1.csv')#reading the data\n",
    "    df['year'] = df['year'].astype('str')\n",
    "    df1 = df.drop(['Unnamed: 0','Unnamed: 0.1','rank'],axis=1)#feature removal(here region is removed because we have load data of indian region)\n",
    "    df2=df1[['artist','region','chart','trend','year']]\n",
    "    for columns in df2.columns:\n",
    "        ordinal_label3={k:i for i, k in enumerate(df2[columns].unique(),0)}\n",
    "        df2[columns] = df2[columns].map(ordinal_label3)#labelencoder\n",
    "    df1=df1.drop(['artist','region','chart','trend','year'],axis=1)\n",
    "    df4 = pd.concat([df1,df2],axis=1)\n",
    "    for column in ['streams','artist','region','chart','trend','year']:\n",
    "        df4[column] = (df4[column] - df4[column].min()) / (df4[column].max() - df4[column].min())\n",
    "    pt=df4.pivot_table(index=['title'],values=['streams','artist','region','chart','trend','year'])#pivoting the table and setting index and values\n",
    "    similarity_scores=cosine_similarity(pt)\n",
    "    def recommend(songstr1):\n",
    "        index=np.where(pt.index==songstr1)[0][0]\n",
    "        similar_items=sorted(list(enumerate(similarity_scores[index])),key=lambda x:x[1],reverse=True)[1:8]#return list of index\n",
    "        for i in similar_items:\n",
    "            print(pt.index[i[0]])\n",
    "    recommend(songstr1)"
   ]
  },
  {
   "cell_type": "code",
   "execution_count": null,
   "id": "5b53d35e",
   "metadata": {},
   "outputs": [],
   "source": []
  },
  {
   "cell_type": "code",
   "execution_count": 5,
   "id": "580930fc",
   "metadata": {},
   "outputs": [
    {
     "name": "stdout",
     "output_type": "stream",
     "text": [
      "what you want to use\n",
      "1) custom  2) default 3) exit\n",
      "enter your choice1\n",
      "enter region : India\n",
      "enter year : 2020\n",
      "enter any song : shayad\n",
      "C:\\Users\\siddh\\Desktop\\spg\\Project\\Music Recommendation System\\datasets\\regions\\India\\2020.csv\n",
      "dynamite\n",
      "naach meri rani\n",
      "life goes on\n",
      "shayad (from \"love aaj kal\")\n",
      "illegal weapon 2.0 (from \"street dancer 3d\")\n",
      "positions\n",
      "mirchi\n",
      "enter your choice2\n",
      "enter any song : Shayad\n",
      "Taste (feat. Offset)\n",
      "กลัว (18th edited)\n",
      "Ciumeira - Ao Vivo\n",
      "CAN'T SAY\n",
      "RIP Luv\n",
      "Kenny G\n",
      "Me Olvidé\n",
      "enter your choice3\n",
      "wrong input\n",
      "enter your choiceexit\n",
      "thank you for using our recommendation\n"
     ]
    }
   ],
   "source": [
    "print(\"what you want to use\")\n",
    "print(\"1) custom  2) default 3) exit\")\n",
    "inp=\" \"\n",
    "while inp != \"exit\":\n",
    "    inp = input(\"enter your choice\")\n",
    "\n",
    "    if inp == \"1\":\n",
    "        region = input(\"enter region : \")\n",
    "        region=region.lower()\n",
    "        region = region.title()\n",
    "        year = input(\"enter year : \")\n",
    "        songstr = input(\"enter any song : \")\n",
    "        songstr = songstr.lower()\n",
    "        strr = 'C:\\\\Users\\\\siddh\\\\Desktop\\\\spg\\\\Project\\\\Music Recommendation System\\\\datasets\\\\regions'\n",
    "        sl = '\\\\'\n",
    "        path = strr + sl + region + sl + year + \".csv\"\n",
    "        print(path)\n",
    "        customRecommendation(region,year,songstr,path)\n",
    "        continue\n",
    "\n",
    "    elif inp == \"2\":\n",
    "        songstr1 = input(\"enter any song : \")\n",
    "        warnings.filterwarnings('ignore')\n",
    "        defaultRecommendation(songstr1)\n",
    "        continue\n",
    "\n",
    "    elif inp ==\"exit\":\n",
    "        print(\"thank you for using our recommendation\")\n",
    "        break\n",
    "\n",
    "    else:\n",
    "        print(\"wrong input\")\n",
    "        continue\n",
    "\n"
   ]
  },
  {
   "cell_type": "code",
   "execution_count": null,
   "id": "f4cb098b",
   "metadata": {},
   "outputs": [],
   "source": []
  }
 ],
 "metadata": {
  "kernelspec": {
   "display_name": "Python 3 (ipykernel)",
   "language": "python",
   "name": "python3"
  },
  "language_info": {
   "codemirror_mode": {
    "name": "ipython",
    "version": 3
   },
   "file_extension": ".py",
   "mimetype": "text/x-python",
   "name": "python",
   "nbconvert_exporter": "python",
   "pygments_lexer": "ipython3",
   "version": "3.9.13"
  }
 },
 "nbformat": 4,
 "nbformat_minor": 5
}
