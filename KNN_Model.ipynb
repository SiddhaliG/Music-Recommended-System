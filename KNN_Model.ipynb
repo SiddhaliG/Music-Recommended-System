{
 "cells": [
  {
   "cell_type": "code",
   "execution_count": 1,
   "id": "4dad05f1",
   "metadata": {},
   "outputs": [
    {
     "name": "stderr",
     "output_type": "stream",
     "text": [
      "C:\\Users\\siddh\\AppData\\Local\\Temp\\ipykernel_7148\\1223670706.py:15: SettingWithCopyWarning: \n",
      "A value is trying to be set on a copy of a slice from a DataFrame.\n",
      "Try using .loc[row_indexer,col_indexer] = value instead\n",
      "\n",
      "See the caveats in the documentation: https://pandas.pydata.org/pandas-docs/stable/user_guide/indexing.html#returning-a-view-versus-a-copy\n",
      "  df2[columns] = df2[columns].map(ordinal_label3)#labelencoder\n",
      "C:\\Users\\siddh\\AppData\\Local\\Temp\\ipykernel_7148\\1223670706.py:15: SettingWithCopyWarning: \n",
      "A value is trying to be set on a copy of a slice from a DataFrame.\n",
      "Try using .loc[row_indexer,col_indexer] = value instead\n",
      "\n",
      "See the caveats in the documentation: https://pandas.pydata.org/pandas-docs/stable/user_guide/indexing.html#returning-a-view-versus-a-copy\n",
      "  df2[columns] = df2[columns].map(ordinal_label3)#labelencoder\n",
      "C:\\Users\\siddh\\AppData\\Local\\Temp\\ipykernel_7148\\1223670706.py:15: SettingWithCopyWarning: \n",
      "A value is trying to be set on a copy of a slice from a DataFrame.\n",
      "Try using .loc[row_indexer,col_indexer] = value instead\n",
      "\n",
      "See the caveats in the documentation: https://pandas.pydata.org/pandas-docs/stable/user_guide/indexing.html#returning-a-view-versus-a-copy\n",
      "  df2[columns] = df2[columns].map(ordinal_label3)#labelencoder\n"
     ]
    },
    {
     "data": {
      "text/plain": [
       "NearestNeighbors(algorithm='brute', metric='cosine')"
      ]
     },
     "execution_count": 1,
     "metadata": {},
     "output_type": "execute_result"
    }
   ],
   "source": [
    "import numpy as np\n",
    "import pandas as pd\n",
    "from sklearn.metrics.pairwise import cosine_similarity\n",
    "import warnings\n",
    "\n",
    "from scipy.sparse import csr_matrix\n",
    "\n",
    "\n",
    "df = pd.read_csv(\"C:\\\\Users\\\\siddh\\\\Desktop\\\\spg\\\\Project\\\\Music Recommendation System\\\\SampleData1.csv\")\n",
    "\n",
    "df1 = df.drop(['Unnamed: 0.1','Unnamed: 0','region','rank','year'],axis=1)#feature removal(here region is removed because we have load data of indian region)\n",
    "df2=df1[['artist','chart','trend']]\n",
    "for columns in df2.columns:\n",
    "    ordinal_label3={k:i for i, k in enumerate(df2[columns].unique(),0)}\n",
    "    df2[columns] = df2[columns].map(ordinal_label3)#labelencoder\n",
    "df1=df1.drop(['artist','chart','trend'],axis=1)\n",
    "df4 = pd.concat([df1,df2],axis=1)\n",
    "for column in ['streams','artist','chart','trend']:\n",
    "        df4[column] = (df4[column] - df4[column].min()) / (df4[column].max() - df4[column].min())\n",
    "\n",
    "pt1=df4.pivot_table(index='title',values=['streams','artist','chart','trend'])\n",
    "matrx= csr_matrix(pt1.values)\n",
    "\n",
    "from sklearn.neighbors import NearestNeighbors\n",
    "\n",
    "model_knn = NearestNeighbors(metric = 'cosine', algorithm = 'brute')\n",
    "model_knn.fit(matrx)"
   ]
  },
  {
   "cell_type": "code",
   "execution_count": 2,
   "id": "44885855",
   "metadata": {},
   "outputs": [
    {
     "data": {
      "text/plain": [
       "(20508, 4)"
      ]
     },
     "execution_count": 2,
     "metadata": {},
     "output_type": "execute_result"
    }
   ],
   "source": [
    "pt1.shape"
   ]
  },
  {
   "cell_type": "code",
   "execution_count": 3,
   "id": "9af17551",
   "metadata": {},
   "outputs": [],
   "source": [
    "def book_recommend(song_name):\n",
    "    # index fetch\n",
    "    \n",
    "    index=np.where(pt1.index==song_name)[0][0]\n",
    "    distance,suggestion =  model_knn.kneighbors(pt1.iloc[index,:].values.reshape(1,-1),n_neighbors=7)\n",
    "    for i in range(len(suggestion)):\n",
    "        musics =pt1.index[suggestion[i]]\n",
    "        count=0\n",
    "        for j in musics:\n",
    "            count+=1\n",
    "            if count==1:\n",
    "                continue\n",
    "            else:\n",
    "                print(j)"
   ]
  },
  {
   "cell_type": "code",
   "execution_count": 4,
   "id": "c0b5c945",
   "metadata": {},
   "outputs": [
    {
     "name": "stdout",
     "output_type": "stream",
     "text": [
      "enter any song : shayad\n",
      "Promo (feat. Damso)\n",
      "Said N Done\n",
      "GHIGLIOTTINA - feat. Noyz Narcos\n",
      "Troca de Calçada\n",
      "Hoje Dói\n",
      "Alice\n"
     ]
    }
   ],
   "source": [
    "#function gives the recommended song\n",
    "str = input(\"enter any song : \")\n",
    "str = str.title()\n",
    "book_recommend(str)"
   ]
  },
  {
   "cell_type": "code",
   "execution_count": null,
   "id": "9b01de4a",
   "metadata": {},
   "outputs": [],
   "source": []
  }
 ],
 "metadata": {
  "kernelspec": {
   "display_name": "Python 3 (ipykernel)",
   "language": "python",
   "name": "python3"
  },
  "language_info": {
   "codemirror_mode": {
    "name": "ipython",
    "version": 3
   },
   "file_extension": ".py",
   "mimetype": "text/x-python",
   "name": "python",
   "nbconvert_exporter": "python",
   "pygments_lexer": "ipython3",
   "version": "3.9.13"
  }
 },
 "nbformat": 4,
 "nbformat_minor": 5
}
