{
 "cells": [
  {
   "cell_type": "code",
   "execution_count": 1,
   "id": "59d7f258",
   "metadata": {},
   "outputs": [],
   "source": [
    "import pandas as pd\n",
    "import numpy as np"
   ]
  },
  {
   "cell_type": "code",
   "execution_count": 2,
   "id": "2b987df1",
   "metadata": {},
   "outputs": [],
   "source": [
    "df = pd.read_csv('sorted.csv')"
   ]
  },
  {
   "cell_type": "code",
   "execution_count": 3,
   "id": "979ac03b",
   "metadata": {},
   "outputs": [],
   "source": [
    "df['year'] = df['year'].astype('str')\n",
    "df['title'] = df['title'].apply(str.lower)"
   ]
  },
  {
   "cell_type": "code",
   "execution_count": 4,
   "id": "e73feb42",
   "metadata": {},
   "outputs": [
    {
     "data": {
      "text/plain": [
       "Unnamed: 0      int64\n",
       "title          object\n",
       "rank            int64\n",
       "year           object\n",
       "artist         object\n",
       "region         object\n",
       "chart          object\n",
       "trend          object\n",
       "streams       float64\n",
       "dtype: object"
      ]
     },
     "execution_count": 4,
     "metadata": {},
     "output_type": "execute_result"
    }
   ],
   "source": [
    "df.dtypes"
   ]
  },
  {
   "cell_type": "code",
   "execution_count": 5,
   "id": "573bb0f1",
   "metadata": {},
   "outputs": [],
   "source": [
    "import os"
   ]
  },
  {
   "cell_type": "code",
   "execution_count": 6,
   "id": "ee29161c",
   "metadata": {},
   "outputs": [
    {
     "name": "stdout",
     "output_type": "stream",
     "text": [
      "enter region : India\n",
      "enter year : 2020\n",
      "folder already exists\n",
      "C:\\Users\\siddh\\Desktop\\spg\\Project\\Music Recommendation System\\datasets\\regions\\India\\2020.csv\n"
     ]
    }
   ],
   "source": [
    "region = input(\"enter region : \")\n",
    "region=region.lower()\n",
    "region = region.title()\n",
    "year = input(\"enter year : \")\n",
    "str = 'C:\\\\Users\\\\siddh\\\\Desktop\\\\spg\\\\Project\\Music Recommendation System\\\\datasets\\\\regions'\n",
    "sl = '\\\\'\n",
    "folderPath = str + sl + region\n",
    "if not os.path.exists(folderPath):\n",
    "    os.makedirs(folderPath)\n",
    "else:\n",
    "    print(\"folder already exists\")\n",
    "path = str + sl + region + sl + year + \".csv\"\n",
    "print(path)"
   ]
  },
  {
   "cell_type": "code",
   "execution_count": 7,
   "id": "09cf05e4",
   "metadata": {},
   "outputs": [],
   "source": [
    "df1 = df[(df['region']==region) & (df['year']==year)]\n"
   ]
  },
  {
   "cell_type": "code",
   "execution_count": 8,
   "id": "ebaff420",
   "metadata": {},
   "outputs": [],
   "source": [
    "df1.to_csv(path)"
   ]
  },
  {
   "cell_type": "code",
   "execution_count": 9,
   "id": "96990da8",
   "metadata": {},
   "outputs": [
    {
     "data": {
      "text/html": [
       "<div>\n",
       "<style scoped>\n",
       "    .dataframe tbody tr th:only-of-type {\n",
       "        vertical-align: middle;\n",
       "    }\n",
       "\n",
       "    .dataframe tbody tr th {\n",
       "        vertical-align: top;\n",
       "    }\n",
       "\n",
       "    .dataframe thead th {\n",
       "        text-align: right;\n",
       "    }\n",
       "</style>\n",
       "<table border=\"1\" class=\"dataframe\">\n",
       "  <thead>\n",
       "    <tr style=\"text-align: right;\">\n",
       "      <th></th>\n",
       "      <th>Unnamed: 0</th>\n",
       "      <th>title</th>\n",
       "      <th>rank</th>\n",
       "      <th>year</th>\n",
       "      <th>artist</th>\n",
       "      <th>region</th>\n",
       "      <th>chart</th>\n",
       "      <th>trend</th>\n",
       "      <th>streams</th>\n",
       "    </tr>\n",
       "  </thead>\n",
       "  <tbody>\n",
       "    <tr>\n",
       "      <th>44</th>\n",
       "      <td>3597815</td>\n",
       "      <td>dynamite</td>\n",
       "      <td>1</td>\n",
       "      <td>2020</td>\n",
       "      <td>BTS</td>\n",
       "      <td>India</td>\n",
       "      <td>top200</td>\n",
       "      <td>SAME_POSITION</td>\n",
       "      <td>281847.00</td>\n",
       "    </tr>\n",
       "    <tr>\n",
       "      <th>360</th>\n",
       "      <td>4638824</td>\n",
       "      <td>falling</td>\n",
       "      <td>1</td>\n",
       "      <td>2020</td>\n",
       "      <td>Trevor Daniel</td>\n",
       "      <td>India</td>\n",
       "      <td>viral50</td>\n",
       "      <td>SAME_POSITION</td>\n",
       "      <td>56740.87</td>\n",
       "    </tr>\n",
       "    <tr>\n",
       "      <th>456</th>\n",
       "      <td>2634204</td>\n",
       "      <td>dynamite</td>\n",
       "      <td>1</td>\n",
       "      <td>2020</td>\n",
       "      <td>BTS</td>\n",
       "      <td>India</td>\n",
       "      <td>top200</td>\n",
       "      <td>SAME_POSITION</td>\n",
       "      <td>213261.00</td>\n",
       "    </tr>\n",
       "    <tr>\n",
       "      <th>576</th>\n",
       "      <td>2881608</td>\n",
       "      <td>naach meri rani</td>\n",
       "      <td>1</td>\n",
       "      <td>2020</td>\n",
       "      <td>Guru Randhawa, Nikhita Gandhi, Tanishk Bagchi,...</td>\n",
       "      <td>India</td>\n",
       "      <td>top200</td>\n",
       "      <td>SAME_POSITION</td>\n",
       "      <td>196483.00</td>\n",
       "    </tr>\n",
       "    <tr>\n",
       "      <th>793</th>\n",
       "      <td>3594453</td>\n",
       "      <td>dynamite</td>\n",
       "      <td>1</td>\n",
       "      <td>2020</td>\n",
       "      <td>BTS</td>\n",
       "      <td>India</td>\n",
       "      <td>top200</td>\n",
       "      <td>SAME_POSITION</td>\n",
       "      <td>185872.00</td>\n",
       "    </tr>\n",
       "  </tbody>\n",
       "</table>\n",
       "</div>"
      ],
      "text/plain": [
       "     Unnamed: 0            title  rank  year  \\\n",
       "44      3597815         dynamite     1  2020   \n",
       "360     4638824          falling     1  2020   \n",
       "456     2634204         dynamite     1  2020   \n",
       "576     2881608  naach meri rani     1  2020   \n",
       "793     3594453         dynamite     1  2020   \n",
       "\n",
       "                                                artist region    chart  \\\n",
       "44                                                 BTS  India   top200   \n",
       "360                                      Trevor Daniel  India  viral50   \n",
       "456                                                BTS  India   top200   \n",
       "576  Guru Randhawa, Nikhita Gandhi, Tanishk Bagchi,...  India   top200   \n",
       "793                                                BTS  India   top200   \n",
       "\n",
       "             trend    streams  \n",
       "44   SAME_POSITION  281847.00  \n",
       "360  SAME_POSITION   56740.87  \n",
       "456  SAME_POSITION  213261.00  \n",
       "576  SAME_POSITION  196483.00  \n",
       "793  SAME_POSITION  185872.00  "
      ]
     },
     "execution_count": 9,
     "metadata": {},
     "output_type": "execute_result"
    }
   ],
   "source": [
    "df1.head()"
   ]
  },
  {
   "cell_type": "code",
   "execution_count": null,
   "id": "16202cd5",
   "metadata": {},
   "outputs": [],
   "source": []
  },
  {
   "cell_type": "code",
   "execution_count": 10,
   "id": "f1202f37",
   "metadata": {},
   "outputs": [],
   "source": [
    "#df2 = df[(df['region']=='Australia') & (df['year']=='2020')]"
   ]
  },
  {
   "cell_type": "code",
   "execution_count": 11,
   "id": "62bb2c80",
   "metadata": {},
   "outputs": [],
   "source": [
    "#df2.head()"
   ]
  },
  {
   "cell_type": "code",
   "execution_count": null,
   "id": "b53b496e",
   "metadata": {},
   "outputs": [],
   "source": []
  },
  {
   "cell_type": "code",
   "execution_count": null,
   "id": "17428d8d",
   "metadata": {},
   "outputs": [],
   "source": []
  }
 ],
 "metadata": {
  "kernelspec": {
   "display_name": "Python 3 (ipykernel)",
   "language": "python",
   "name": "python3"
  },
  "language_info": {
   "codemirror_mode": {
    "name": "ipython",
    "version": 3
   },
   "file_extension": ".py",
   "mimetype": "text/x-python",
   "name": "python",
   "nbconvert_exporter": "python",
   "pygments_lexer": "ipython3",
   "version": "3.9.13"
  }
 },
 "nbformat": 4,
 "nbformat_minor": 5
}
